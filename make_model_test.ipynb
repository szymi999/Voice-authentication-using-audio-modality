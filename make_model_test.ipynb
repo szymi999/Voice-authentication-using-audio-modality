{
 "cells": [
  {
   "cell_type": "code",
   "execution_count": 1,
   "id": "a0fd089c",
   "metadata": {},
   "outputs": [],
   "source": [
    "import random\n",
    "import matplotlib.pyplot as plt\n",
    "import numpy as np\n",
    "from tensorflow.keras import backend as K\n",
    "from tensorflow.keras.models import Model\n",
    "import tensorflow.keras.layers as K_layers\n",
    "import tensorflow.keras.models as K_models\n",
    "import tensorflow as tf\n",
    "from PIL import Image\n",
    "from skimage import io\n",
    "import os\n",
    "import pandas as pd\n",
    "from sklearn import metrics\n",
    "import matplotlib.pyplot as plt\n",
    "\n",
    "data_path = \"normalized_data\"\n",
    "input_shape = ((90,173,1))"
   ]
  },
  {
   "cell_type": "code",
   "execution_count": 2,
   "id": "169c5056",
   "metadata": {},
   "outputs": [],
   "source": [
    "def data_generator(batch_size=16):\n",
    "    while True:\n",
    "        a = []\n",
    "        p = []\n",
    "        n = []\n",
    "        \n",
    "        for _ in range(batch_size):\n",
    "            x = get_random_triple(data_path)\n",
    "\n",
    "            a.append(x[0])\n",
    "            p.append(x[1]) \n",
    "            n.append(x[2]) \n",
    "\n",
    "\n",
    "        yield ([np.array(a), np.array(p), np.array(n)], np.zeros((batch_size, 1)).astype(\"float32\"))\n",
    "\n",
    "def get_random_triple(path):\n",
    "    data_array = []\n",
    "\n",
    "\n",
    "    person = random.sample(os.listdir(path), 2)\n",
    "\n",
    "    pathanchor = path+\"/\"+person[0]\n",
    "    filesanchor = random.sample(os.listdir(pathanchor), 2)\n",
    "    \n",
    "    for i in range(2):\n",
    "        #print(\"{}/{}\".format(pathanchor, filesanchor[i]))\n",
    "        data_array.append(np.load(\"{}/{}\".format(pathanchor, filesanchor[i])))\n",
    "\n",
    "    pathnegative = path+\"/\"+person[1]\n",
    "    filesnegative = random.sample(os.listdir(pathnegative), 1)\n",
    "\n",
    "    for i in range(1):\n",
    "        #print(\"{}/{}\".format(pathnegative, filesnegative[i]))\n",
    "        data_array.append(np.load(\"{}/{}\".format(pathnegative, filesnegative[i])))\n",
    "    \n",
    "    \n",
    "    return data_array \n",
    "\n",
    "def calc_cos_tensor(tensor1, tensor2):\n",
    "    return tf.tensordot(tensor1, tensor2, axes=1) / (tf.norm(tensor1) * tf.norm(tensor2))\n",
    "\n",
    "\n",
    "def triplet_loss(y_true, y_pred, margin=1):\n",
    "    anchor_out = y_pred[0, 0:100]\n",
    "    positive_out = y_pred[0, 100:200]\n",
    "    negative_out = y_pred[0, 200:300]\n",
    "\n",
    "    cos1 = calc_cos_tensor(anchor_out, positive_out)\n",
    "    cos2 = calc_cos_tensor(anchor_out, negative_out)\n",
    "    loss = (1-cos1) - (1-cos2) + margin    \n",
    "                                              \n",
    "    return loss\n",
    "\n",
    "# def triplet_loss(y_true, y_pred, margin=0.5):\n",
    "#     anchor_out = y_pred[:, 0:100]\n",
    "#     positive_out = y_pred[:, 100:200]\n",
    "#     negative_out = y_pred[:, 200:300]\n",
    "    \n",
    "#     pos_dist = K.sum(K.abs(anchor_out - positive_out), axis=1) # l1 dist between anchor <-> positive\n",
    "#     neg_dist = K.sum(K.abs(anchor_out - negative_out), axis=1) # l1 dist between anchor <-> negative\n",
    "\n",
    "#     probs = K.softmax([pos_dist, neg_dist], axis=0)\n",
    "    \n",
    "#     return K.mean(K.abs(probs[0]) + K.abs(1.0 - probs[1]))\n",
    "\n",
    "# def triplet_loss(y_true, y_pred, margin=1):\n",
    "#     anchor_out = y_pred[:, 0:100]\n",
    "#     positive_out = y_pred[:, 100:200]\n",
    "#     negative_out = y_pred[:, 200:300]\n",
    "    \n",
    "#     nr_iters = [2, 1]\n",
    "#     tf_list = []\n",
    "#     tf_list_tmp = []\n",
    "    \n",
    "#     for j in nr_iters:\n",
    "#         for i in range(j):\n",
    "#             if j == nr_iters[0]:\n",
    "#                 cos1_1 = calc_cos_tensor(anchor_out[2*i], positive_out[2*i])\n",
    "#                 cos1_2 = calc_cos_tensor(anchor_out[2*i], negative_out[2*i])\n",
    "#                 loss1 = (1-cos1_1) - (1-cos1_2) + margin\n",
    "                \n",
    "#                 cos2_1 = calc_cos_tensor(anchor_out[2*i+1], positive_out[2*i+1])\n",
    "#                 cos2_2 = calc_cos_tensor(anchor_out[2*i+1], negative_out[2*i+1])\n",
    "#                 loss2 = (1-cos2_1) - (1-cos2_2) + margin\n",
    "                \n",
    "#                 tf_list_tmp.append(tf.stack([loss1, loss2], 0))\n",
    "#             else:\n",
    "#                 tf_list_tmp.append(tf.concat([tf_list[2*i], tf_list[2*i+1]], 0))\n",
    "\n",
    "#         tf_list = tf_list_tmp\n",
    "#         tf_list_tmp = []\n",
    "                                              \n",
    "#     return tf.keras.backend.mean(tf_list[0])\n",
    "\n",
    "def model():\n",
    "    input_layer = K_layers.Input(input_shape)\n",
    "    x = K_layers.Conv2D(128, 3, activation=\"leaky_relu\")(input_layer)\n",
    "    x = K_layers.Conv2D(128, (1, 3), activation=\"leaky_relu\")(x)\n",
    "    x = K_layers.Conv2D(128, (1, 3), activation=\"leaky_relu\")(x)\n",
    "    x = K_layers.MaxPool2D(2)(x)\n",
    "    x = K_layers.Conv2D(128, (1, 3), activation=\"leaky_relu\")(x)\n",
    "    x = K_layers.Conv2D(128, (1, 3), activation=\"leaky_relu\")(x)\n",
    "    x = K_layers.MaxPool2D(2)(x)\n",
    "    x = K_layers.Conv2D(256, (1, 3), activation=\"leaky_relu\")(x)\n",
    "    x = K_layers.Conv2D(256, (1, 3), activation=\"leaky_relu\")(x)\n",
    "    x = K_layers.MaxPool2D(2)(x)\n",
    "    x = K_layers.Conv2D(256, (1, 3), activation=\"leaky_relu\")(x)\n",
    "    x = K_layers.Conv2D(256, (1, 3), activation=\"leaky_relu\")(x)\n",
    "    x = K_layers.MaxPool2D(2)(x)\n",
    "    x = K_layers.Dropout(0.2)(x)\n",
    "    x = K_layers.Flatten()(x)\n",
    "    x = K_layers.Dense(512, activation=\"relu\")(x)\n",
    "    x = K_layers.Dense(256, activation=\"relu\")(x)\n",
    "    x = K_layers.Dense(100, activation=\"relu\")(x)\n",
    "\n",
    "    model = Model(input_layer, x)\n",
    "#     model.summary()\n",
    "\n",
    "\n",
    "    triplet_model_a = K_layers.Input(input_shape)\n",
    "    triplet_model_p = K_layers.Input(input_shape)\n",
    "    triplet_model_n = K_layers.Input(input_shape)\n",
    "    triplet_model_out = K_layers.Concatenate()([model(triplet_model_a), model(triplet_model_p), model(triplet_model_n)])\n",
    "    triplet_model = Model([triplet_model_a, triplet_model_p, triplet_model_n], triplet_model_out)\n",
    "#     triplet_model.summary()\n",
    "    \n",
    "    return triplet_model"
   ]
  },
  {
   "cell_type": "code",
   "execution_count": 27,
   "id": "f2e5f75a",
   "metadata": {},
   "outputs": [],
   "source": [
    "triplet_model = model()"
   ]
  },
  {
   "cell_type": "code",
   "execution_count": 28,
   "id": "d39720fe",
   "metadata": {},
   "outputs": [],
   "source": [
    "triplet_model.compile(loss=triplet_loss, optimizer=tf.keras.optimizers.Adam(learning_rate=1e-5))"
   ]
  },
  {
   "cell_type": "code",
   "execution_count": 29,
   "id": "34d66710",
   "metadata": {
    "scrolled": false
   },
   "outputs": [
    {
     "name": "stdout",
     "output_type": "stream",
     "text": [
      "Epoch 1/3\n",
      "5000/5000 [==============================] - 2225s 445ms/step - loss: 0.9157\n",
      "Epoch 2/3\n",
      "5000/5000 [==============================] - 2151s 430ms/step - loss: 0.6923\n",
      "Epoch 3/3\n",
      "5000/5000 [==============================] - 2192s 438ms/step - loss: 0.5935\n"
     ]
    }
   ],
   "source": [
    "history = triplet_model.fit(data_generator(batch_size=1), steps_per_epoch=5000, epochs=3)"
   ]
  },
  {
   "cell_type": "code",
   "execution_count": 30,
   "id": "94fcaaae",
   "metadata": {},
   "outputs": [],
   "source": [
    "triplet_model.compile(loss=None, optimizer=\"adam\")\n",
    "\n",
    "triplet_model.save(\"models/model_dropout_cos.h5\")\n",
    "# hist_df = pd.DataFrame(history.history) \n",
    "\n",
    "# hist_csv_file = 'history.csv'\n",
    "# with open(hist_csv_file, mode='w') as f:\n",
    "#     hist_df.to_csv(f)"
   ]
  },
  {
   "cell_type": "code",
   "execution_count": 3,
   "id": "4a34f40f",
   "metadata": {},
   "outputs": [],
   "source": [
    "triplet_model = tf.keras.models.load_model('random_short_network_cos.h5')"
   ]
  },
  {
   "cell_type": "code",
   "execution_count": 32,
   "id": "7c6ac359",
   "metadata": {},
   "outputs": [
    {
     "name": "stdout",
     "output_type": "stream",
     "text": [
      "32/32 [==============================] - 51s 2s/step\n",
      "Mean positive distance: 16.707349591732026\n",
      "Mean negative distance: 35.17694912385941\n"
     ]
    }
   ],
   "source": [
    "# data = next(data_generator(batch_size=1000))\n",
    "\n",
    "# preds = triplet_model.predict(data[0])\n",
    "\n",
    "# dist_pos = 0\n",
    "# dist_neg = 0\n",
    "\n",
    "# for pred in preds:\n",
    "#     anch = pred[:100]\n",
    "#     pos = pred[100:200]\n",
    "#     neg = pred[200:300]\n",
    "    \n",
    "#     dist_pos += np.sum(np.abs(anch - pos))\n",
    "#     dist_neg += np.sum(np.abs(anch - neg))\n",
    "    \n",
    "# print(f'Mean positive distance: {dist_pos/len(preds)}')\n",
    "# print(f'Mean negative distance: {dist_neg/len(preds)}')"
   ]
  },
  {
   "cell_type": "code",
   "execution_count": 4,
   "id": "12f98ef9",
   "metadata": {},
   "outputs": [
    {
     "name": "stdout",
     "output_type": "stream",
     "text": [
      "63/63 [==============================] - 105s 2s/step\n"
     ]
    }
   ],
   "source": [
    "data = next(data_generator(batch_size=1000))\n",
    "\n",
    "new = []\n",
    "\n",
    "new.append(np.concatenate((data[0][0], data[0][0])))\n",
    "new.append(np.concatenate((data[0][1], data[0][2])))\n",
    "new.append(np.zeros((new[0].shape)))\n",
    "    \n",
    "preds = triplet_model.predict(new)\n",
    "\n",
    "cos_sim = []\n",
    "\n",
    "for pred in preds:\n",
    "    anch = pred[:100]\n",
    "    pos = pred[100:200]\n",
    "    neg = pred[200:300]\n",
    "    \n",
    "    cos_sim.append(calc_cos_tensor(anch, pos).numpy())"
   ]
  },
  {
   "cell_type": "code",
   "execution_count": 32,
   "id": "61eaacf8",
   "metadata": {},
   "outputs": [
    {
     "data": {
      "text/plain": [
       "0.8534874267578125"
      ]
     },
     "execution_count": 32,
     "metadata": {},
     "output_type": "execute_result"
    }
   ],
   "source": [
    "np.sum(cos_sim[:len(cos_sim)//2])/(len(cos_sim)//2)"
   ]
  },
  {
   "cell_type": "code",
   "execution_count": 33,
   "id": "9517cbff",
   "metadata": {},
   "outputs": [
    {
     "data": {
      "text/plain": [
       "0.42758267211914064"
      ]
     },
     "execution_count": 33,
     "metadata": {},
     "output_type": "execute_result"
    }
   ],
   "source": [
    "np.sum(cos_sim[len(cos_sim)//2:])/(len(cos_sim)//2)"
   ]
  },
  {
   "cell_type": "code",
   "execution_count": 34,
   "id": "bf11375d",
   "metadata": {},
   "outputs": [
    {
     "data": {
      "text/plain": [
       "0.0"
      ]
     },
     "execution_count": 34,
     "metadata": {},
     "output_type": "execute_result"
    }
   ],
   "source": [
    "np.min(cos_sim[:len(cos_sim)//2])"
   ]
  },
  {
   "cell_type": "code",
   "execution_count": 35,
   "id": "a9ab6c5c",
   "metadata": {},
   "outputs": [
    {
     "data": {
      "text/plain": [
       "0.99851817"
      ]
     },
     "execution_count": 35,
     "metadata": {},
     "output_type": "execute_result"
    }
   ],
   "source": [
    "np.max(cos_sim[len(cos_sim)//2:])"
   ]
  },
  {
   "cell_type": "code",
   "execution_count": 5,
   "id": "db4379f5",
   "metadata": {},
   "outputs": [
    {
     "name": "stdout",
     "output_type": "stream",
     "text": [
      "Good: 188\n",
      "Wrong: 47\n"
     ]
    }
   ],
   "source": [
    "threshold = 0.99\n",
    "\n",
    "good = 0\n",
    "for i in cos_sim[:len(cos_sim)//2]:\n",
    "    if i > threshold:\n",
    "        good += 1\n",
    "\n",
    "wrong = 0\n",
    "for i in cos_sim[len(cos_sim)//2:]:\n",
    "    if i > threshold:\n",
    "        wrong += 1\n",
    "        \n",
    "print(f\"Good: {good}\")\n",
    "print(f\"Wrong: {wrong}\")"
   ]
  },
  {
   "cell_type": "code",
   "execution_count": 22,
   "id": "881fa19b",
   "metadata": {},
   "outputs": [
    {
     "data": {
      "image/png": "[encoded data removed]",
      "text/plain": [
       "<Figure size 640x480 with 2 Axes>"
      ]
     },
     "metadata": {},
     "output_type": "display_data"
    }
   ],
   "source": [
    "y_true = []\n",
    "for i in range(2000):\n",
    "    if i < 1000:\n",
    "        y_true.append(1)\n",
    "    else:\n",
    "        y_true.append(0)\n",
    "\n",
    "y_pred = []\n",
    "for i in cos_sim:\n",
    "    if i > 0.85:\n",
    "        y_pred.append(1)\n",
    "    else:\n",
    "        y_pred.append(0)\n",
    "        \n",
    "y_true = np.array(y_true)\n",
    "y_pred = np.array(y_pred)\n",
    "\n",
    "confusion_matrix = metrics.confusion_matrix(y_true, y_pred)\n",
    "cm_display = metrics.ConfusionMatrixDisplay(confusion_matrix = confusion_matrix, display_labels = [False, True])\n",
    "\n",
    "cm_display.plot()\n",
    "plt.show()"
   ]
  },
  {
   "cell_type": "code",
   "execution_count": 3,
   "id": "25a74708",
   "metadata": {},
   "outputs": [],
   "source": [
    "triplet_model = tf.keras.models.load_model('models/model1_cos.h5')\n",
    "\n",
    "data = next(data_generator(batch_size=1000))"
   ]
  },
  {
   "cell_type": "code",
   "execution_count": 12,
   "id": "b8d48a2d",
   "metadata": {},
   "outputs": [
    {
     "data": {
      "text/plain": [
       "(1000, 90, 173)"
      ]
     },
     "execution_count": 12,
     "metadata": {},
     "output_type": "execute_result"
    }
   ],
   "source": [
    "data[0][2].shape"
   ]
  },
  {
   "cell_type": "code",
   "execution_count": 23,
   "id": "6262c2c1",
   "metadata": {},
   "outputs": [
    {
     "name": "stdout",
     "output_type": "stream",
     "text": [
      "63/63 [==============================] - 110s 2s/step\n"
     ]
    },
    {
     "data": {
      "image/png": "[encoded data removed]",
      "text/plain": [
       "<Figure size 640x480 with 2 Axes>"
      ]
     },
     "metadata": {},
     "output_type": "display_data"
    }
   ],
   "source": [
    "triplet_model = tf.keras.models.load_model('models/model1_cos.h5')\n",
    "\n",
    "data = next(data_generator(batch_size=1000))\n",
    "\n",
    "new = []\n",
    "\n",
    "new.append(np.concatenate((data[0][0], data[0][0])))\n",
    "new.append(np.concatenate((data[0][1], data[0][2])))\n",
    "new.append(np.zeros((new[0].shape)))\n",
    "    \n",
    "preds = triplet_model.predict(new)\n",
    "\n",
    "cos_sim = []\n",
    "\n",
    "for pred in preds:\n",
    "    anch = pred[:100]\n",
    "    pos = pred[100:200]\n",
    "    neg = pred[200:300]\n",
    "    \n",
    "    cos_sim.append(calc_cos_tensor(anch, pos).numpy())\n",
    "    \n",
    "y_true = []\n",
    "for i in range(2000):\n",
    "    if i < 1000:\n",
    "        y_true.append(1)\n",
    "    else:\n",
    "        y_true.append(0)\n",
    "\n",
    "y_pred = []\n",
    "for i in cos_sim:\n",
    "    if i > 0.85:\n",
    "        y_pred.append(1)\n",
    "    else:\n",
    "        y_pred.append(0)\n",
    "        \n",
    "y_true = np.array(y_true)\n",
    "y_pred = np.array(y_pred)\n",
    "\n",
    "confusion_matrix = metrics.confusion_matrix(y_true, y_pred)\n",
    "cm_display = metrics.ConfusionMatrixDisplay(confusion_matrix = confusion_matrix, display_labels = [False, True])\n",
    "\n",
    "cm_display.plot()\n",
    "plt.show()"
   ]
  },
  {
   "cell_type": "code",
   "execution_count": 25,
   "id": "1bcaf598",
   "metadata": {},
   "outputs": [
    {
     "data": {
      "image/png": "[encoded data removed]",
      "text/plain": [
       "<Figure size 640x480 with 2 Axes>"
      ]
     },
     "metadata": {},
     "output_type": "display_data"
    }
   ],
   "source": [
    "y_true = []\n",
    "for i in range(2000):\n",
    "    if i < 1000:\n",
    "        y_true.append(1)\n",
    "    else:\n",
    "        y_true.append(0)\n",
    "\n",
    "y_pred = []\n",
    "for i in cos_sim:\n",
    "    if i > 0.9:\n",
    "        y_pred.append(1)\n",
    "    else:\n",
    "        y_pred.append(0)\n",
    "        \n",
    "y_true = np.array(y_true)\n",
    "y_pred = np.array(y_pred)\n",
    "\n",
    "confusion_matrix = metrics.confusion_matrix(y_true, y_pred)\n",
    "cm_display = metrics.ConfusionMatrixDisplay(confusion_matrix = confusion_matrix, display_labels = [False, True])\n",
    "\n",
    "cm_display.plot()\n",
    "plt.show()"
   ]
  },
  {
   "cell_type": "code",
   "execution_count": 26,
   "id": "afbb8ec0",
   "metadata": {},
   "outputs": [
    {
     "name": "stdout",
     "output_type": "stream",
     "text": [
      "63/63 [==============================] - 123s 2s/step\n"
     ]
    },
    {
     "data": {
      "image/png": "[encoded data removed]",
      "text/plain": [
       "<Figure size 640x480 with 2 Axes>"
      ]
     },
     "metadata": {},
     "output_type": "display_data"
    }
   ],
   "source": [
    "triplet_model = tf.keras.models.load_model('models/model_dropout_cos.h5')\n",
    "\n",
    "data = next(data_generator(batch_size=1000))\n",
    "\n",
    "new = []\n",
    "\n",
    "new.append(np.concatenate((data[0][0], data[0][0])))\n",
    "new.append(np.concatenate((data[0][1], data[0][2])))\n",
    "new.append(np.zeros((new[0].shape)))\n",
    "    \n",
    "preds = triplet_model.predict(new)\n",
    "\n",
    "cos_sim = []\n",
    "\n",
    "for pred in preds:\n",
    "    anch = pred[:100]\n",
    "    pos = pred[100:200]\n",
    "    neg = pred[200:300]\n",
    "    \n",
    "    cos_sim.append(calc_cos_tensor(anch, pos).numpy())\n",
    "    \n",
    "y_true = []\n",
    "for i in range(2000):\n",
    "    if i < 1000:\n",
    "        y_true.append(1)\n",
    "    else:\n",
    "        y_true.append(0)\n",
    "\n",
    "y_pred = []\n",
    "for i in cos_sim:\n",
    "    if i > 0.85:\n",
    "        y_pred.append(1)\n",
    "    else:\n",
    "        y_pred.append(0)\n",
    "        \n",
    "y_true = np.array(y_true)\n",
    "y_pred = np.array(y_pred)\n",
    "\n",
    "confusion_matrix = metrics.confusion_matrix(y_true, y_pred)\n",
    "cm_display = metrics.ConfusionMatrixDisplay(confusion_matrix = confusion_matrix, display_labels = [False, True])\n",
    "\n",
    "cm_display.plot()\n",
    "plt.show()"
   ]
  },
  {
   "cell_type": "code",
   "execution_count": 28,
   "id": "af2f4634",
   "metadata": {},
   "outputs": [
    {
     "data": {
      "image/png": "[encoded data removed]",
      "text/plain": [
       "<Figure size 640x480 with 2 Axes>"
      ]
     },
     "metadata": {},
     "output_type": "display_data"
    }
   ],
   "source": [
    "y_true = []\n",
    "for i in range(2000):\n",
    "    if i < 1000:\n",
    "        y_true.append(1)\n",
    "    else:\n",
    "        y_true.append(0)\n",
    "\n",
    "y_pred = []\n",
    "for i in cos_sim:\n",
    "    if i > 0.95:\n",
    "        y_pred.append(1)\n",
    "    else:\n",
    "        y_pred.append(0)\n",
    "        \n",
    "y_true = np.array(y_true)\n",
    "y_pred = np.array(y_pred)\n",
    "\n",
    "confusion_matrix = metrics.confusion_matrix(y_true, y_pred)\n",
    "cm_display = metrics.ConfusionMatrixDisplay(confusion_matrix = confusion_matrix, display_labels = [False, True])\n",
    "\n",
    "cm_display.plot()\n",
    "plt.show()"
   ]
  },
  {
   "cell_type": "code",
   "execution_count": null,
   "id": "5b577582",
   "metadata": {},
   "outputs": [],
   "source": []
  }
 ],
 "metadata": {
  "kernelspec": {
   "display_name": "Python 3 (ipykernel)",
   "language": "python",
   "name": "python3"
  },
  "language_info": {
   "codemirror_mode": {
    "name": "ipython",
    "version": 3
   },
   "file_extension": ".py",
   "mimetype": "text/x-python",
   "name": "python",
   "nbconvert_exporter": "python",
   "pygments_lexer": "ipython3",
   "version": "3.10.5"
  }
 },
 "nbformat": 4,
 "nbformat_minor": 5
}
