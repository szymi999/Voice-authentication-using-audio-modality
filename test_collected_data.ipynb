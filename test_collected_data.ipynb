{
 "cells": [
  {
   "cell_type": "code",
   "execution_count": 1,
   "id": "982a1191",
   "metadata": {},
   "outputs": [],
   "source": [
    "import os\n",
    "import soundfile as sf\n",
    "import librosa\n",
    "import librosa.display as dsp\n",
    "import pandas as pd\n",
    "import numpy as np\n",
    "import matplotlib.pyplot as plt\n",
    "import random\n",
    "from IPython.display import clear_output\n",
    "import time\n",
    "import warnings\n",
    "warnings.simplefilter(action='ignore', category=FutureWarning)"
   ]
  },
  {
   "cell_type": "code",
   "execution_count": 23,
   "id": "4d704c4e",
   "metadata": {},
   "outputs": [],
   "source": [
    "max_wart = 39.012882232666016\n",
    "min_wart = -72.86720275878906"
   ]
  },
  {
   "cell_type": "code",
   "execution_count": 3,
   "id": "0a8a08da",
   "metadata": {},
   "outputs": [
    {
     "name": "stdout",
     "output_type": "stream",
     "text": [
      "Person: 21/21, file: 19/19\n"
     ]
    }
   ],
   "source": [
    "# Pobranie wszystkich osób z wav i utworzenie dla każdej folderu oraz stworzenie nparray o rozmiarze (90, 173)\n",
    "\n",
    "source_path = \"zebrane\"\n",
    "dest_path = \"zebrane_prepared\"\n",
    "# wav_file = \"audioFile.wav\"\n",
    "\n",
    "person_count = 0\n",
    "persons_limit = len(os.listdir(source_path))\n",
    "\n",
    "for person in os.listdir(source_path):\n",
    "    person_count += 1\n",
    "    file_count = 0\n",
    "    \n",
    "    if os.path.isdir(dest_path + '/' + person[:-4]) == False:\n",
    "        os.mkdir(dest_path + '/' + person[:-4])\n",
    "        \n",
    "    count = 0\n",
    "    \n",
    "    data, sample_rate = librosa.load(f'{source_path}/{person}')\n",
    "    \n",
    "    mel = librosa.feature.melspectrogram(y=data, sr=16000, n_fft=2048, hop_length=512, n_mels=90)\n",
    "    log_mel_spectrogram = librosa.power_to_db(mel)\n",
    "\n",
    "    log_mel_spectrogram += np.abs(min_wart)\n",
    "    log_mel_spectrogram /= (max_wart + np.abs(min_wart))\n",
    "    \n",
    "    file_limit = log_mel_spectrogram.shape[1] // 173 + 1\n",
    "    for r in range(0, log_mel_spectrogram.shape[1], 173):\n",
    "        file_count += 1\n",
    "        if log_mel_spectrogram[:,r:r+173].shape[1] == 173:\n",
    "            np.save(f'{dest_path}/{person[:-4]}/{count}', log_mel_spectrogram[:,r:r+173])\n",
    "            count += 1\n",
    "            \n",
    "    clear_output(wait=True)\n",
    "    print(f'Person: {person_count}/{persons_limit}, file: {file_count}/{file_limit}')"
   ]
  },
  {
   "cell_type": "code",
   "execution_count": 24,
   "id": "fe292bf6",
   "metadata": {},
   "outputs": [],
   "source": [
    "# Testowanie zebranych danych\n",
    "\n",
    "import random\n",
    "import matplotlib.pyplot as plt\n",
    "import numpy as np\n",
    "from tensorflow.keras import backend as K\n",
    "from tensorflow.keras.models import Model\n",
    "import tensorflow.keras.layers as K_layers\n",
    "import tensorflow.keras.models as K_models\n",
    "import tensorflow as tf\n",
    "from PIL import Image\n",
    "from skimage import io\n",
    "import os\n",
    "import pandas as pd\n",
    "from sklearn import metrics\n",
    "import matplotlib.pyplot as plt\n",
    "\n",
    "input_shape = ((90,173,1))"
   ]
  },
  {
   "cell_type": "code",
   "execution_count": 25,
   "id": "ffcd9f89",
   "metadata": {},
   "outputs": [],
   "source": [
    "def calc_cos_tensor(tensor1, tensor2):\n",
    "    return tf.tensordot(tensor1, tensor2, axes=1) / (tf.norm(tensor1) * tf.norm(tensor2))"
   ]
  },
  {
   "cell_type": "code",
   "execution_count": 26,
   "id": "0c4458f3",
   "metadata": {},
   "outputs": [],
   "source": [
    "triplet_model = tf.keras.models.load_model('models/model1_cos.h5')"
   ]
  },
  {
   "cell_type": "code",
   "execution_count": 7,
   "id": "7b86f05c",
   "metadata": {},
   "outputs": [],
   "source": [
    "# przygotowanie zbioru testowego\n",
    "\n",
    "source_path = \"zebrane_prepared\"\n",
    "\n",
    "# po ile próbek na osobę\n",
    "multiply_samples = 3\n",
    "\n",
    "number_of_people = len(os.listdir(source_path))\n",
    "number_of_samples = (number_of_people * ((number_of_people+1) / 2)) * multiply_samples\n",
    "\n",
    "anchors = []\n",
    "positives = []\n",
    "negatives = []\n",
    "y_true = []\n",
    "\n",
    "for i in range(multiply_samples):\n",
    "    for person1 in range(number_of_people):\n",
    "        for person2 in range(person1, number_of_people):\n",
    "            anchors.append(np.load(f'{source_path}/person{person1}/' + random.choice(os.listdir(f'{source_path}/person{person1}'))))\n",
    "            positives.append(np.load(f'{source_path}/person{person2}/' + random.choice(os.listdir(f'{source_path}/person{person2}'))))\n",
    "            negatives.append(np.zeros((90, 173)))\n",
    "            if person1 == person2:\n",
    "                y_true.append(1)\n",
    "            else:\n",
    "                y_true.append(0)\n",
    "    \n",
    "data = [np.array(anchors), np.array(positives), np.array(negatives)]"
   ]
  },
  {
   "cell_type": "code",
   "execution_count": 11,
   "id": "7db64eb9",
   "metadata": {},
   "outputs": [
    {
     "name": "stdout",
     "output_type": "stream",
     "text": [
      "22/22 [==============================] - 58s 2s/step\n"
     ]
    }
   ],
   "source": [
    "preds = triplet_model.predict(data)"
   ]
  },
  {
   "cell_type": "code",
   "execution_count": 20,
   "id": "c8e563e1",
   "metadata": {},
   "outputs": [],
   "source": [
    "cos_sim = []\n",
    "\n",
    "for pred in preds:\n",
    "    anch = pred[:100]\n",
    "    pos = pred[100:200]\n",
    "    neg = pred[200:300]\n",
    "    \n",
    "    cos_sim.append(calc_cos_tensor(anch, pos).numpy())\n",
    "\n",
    "y_pred = []\n",
    "for i in cos_sim:\n",
    "    if i > 0.99:\n",
    "        y_pred.append(1)\n",
    "    else:\n",
    "        y_pred.append(0)\n",
    "        \n",
    "y_true = np.array(y_true)\n",
    "y_pred = np.array(y_pred)"
   ]
  },
  {
   "cell_type": "code",
   "execution_count": 21,
   "id": "d8f04672",
   "metadata": {},
   "outputs": [
    {
     "data": {
      "image/png": "[encoded data removed]",
      "text/plain": [
       "<Figure size 432x288 with 2 Axes>"
      ]
     },
     "metadata": {
      "needs_background": "light"
     },
     "output_type": "display_data"
    }
   ],
   "source": [
    "confusion_matrix = metrics.confusion_matrix(y_true, y_pred)\n",
    "cm_display = metrics.ConfusionMatrixDisplay(confusion_matrix = confusion_matrix, display_labels = [False, True])\n",
    "\n",
    "cm_display.plot()\n",
    "plt.show()"
   ]
  },
  {
   "cell_type": "code",
   "execution_count": 14,
   "id": "399a102c",
   "metadata": {},
   "outputs": [
    {
     "name": "stdout",
     "output_type": "stream",
     "text": [
      "490\n",
      "4\n",
      "140\n",
      "59\n"
     ]
    }
   ],
   "source": [
    "# TN\n",
    "print(confusion_matrix[0][0])\n",
    "# FN\n",
    "print(confusion_matrix[1][0])\n",
    "# FP\n",
    "print(confusion_matrix[0][1])\n",
    "# TP\n",
    "print(confusion_matrix[1][1])"
   ]
  },
  {
   "cell_type": "code",
   "execution_count": 15,
   "id": "03e0bedc",
   "metadata": {},
   "outputs": [
    {
     "name": "stdout",
     "output_type": "stream",
     "text": [
      "0.0\n",
      "0.1\n",
      "0.2\n",
      "0.3\n",
      "0.4\n",
      "0.5\n",
      "0.6\n",
      "0.7000000000000001\n",
      "0.8\n",
      "0.9000000000000001\n"
     ]
    }
   ],
   "source": [
    "false_negative = []\n",
    "false_positive = []\n",
    "\n",
    "for threshold in np.arange(0, 0.99, 0.001):\n",
    "    y_pred = []\n",
    "    for i in cos_sim:\n",
    "        if i > threshold:\n",
    "            y_pred.append(1)\n",
    "        else:\n",
    "            y_pred.append(0)\n",
    "\n",
    "    y_true = np.array(y_true)\n",
    "    y_pred = np.array(y_pred)\n",
    "    \n",
    "    confusion_matrix = metrics.confusion_matrix(y_true, y_pred)\n",
    "    \n",
    "    false_negative.append(confusion_matrix[1][0])\n",
    "    false_positive.append(confusion_matrix[0][1])\n",
    "    \n",
    "    if int(threshold * 100) % 100 == 0:\n",
    "        print(threshold * 100)"
   ]
  },
  {
   "cell_type": "code",
   "execution_count": 16,
   "id": "48462337",
   "metadata": {},
   "outputs": [
    {
     "data": {
      "image/png": "[encoded data removed]",
      "text/plain": [
       "<Figure size 432x288 with 1 Axes>"
      ]
     },
     "metadata": {
      "needs_background": "light"
     },
     "output_type": "display_data"
    }
   ],
   "source": [
    "threshold = np.arange(0, 0.99, 0.001)\n",
    "plt.plot(threshold, false_negative)\n",
    "plt.plot(threshold, false_positive)\n",
    "plt.show()"
   ]
  },
  {
   "cell_type": "code",
   "execution_count": 17,
   "id": "b25a1bdf",
   "metadata": {},
   "outputs": [
    {
     "data": {
      "text/plain": [
       "0.989"
      ]
     },
     "execution_count": 17,
     "metadata": {},
     "output_type": "execute_result"
    }
   ],
   "source": [
    "idx = (np.abs(np.array(false_negative) - np.array(false_positive))).argmin()\n",
    "threshold[idx]"
   ]
  },
  {
   "cell_type": "code",
   "execution_count": 77,
   "id": "e9828a7a",
   "metadata": {},
   "outputs": [
    {
     "name": "stderr",
     "output_type": "stream",
     "text": [
      "WARNING:absl:Found untraced functions such as _jit_compiled_convolution_op, _jit_compiled_convolution_op, _jit_compiled_convolution_op, _jit_compiled_convolution_op, _jit_compiled_convolution_op while saving (showing 5 of 9). These functions will not be directly callable after loading.\n"
     ]
    },
    {
     "name": "stdout",
     "output_type": "stream",
     "text": [
      "INFO:tensorflow:Assets written to: C:\\Users\\User\\AppData\\Local\\Temp\\tmpf6wgkn0l\\assets\n"
     ]
    },
    {
     "name": "stderr",
     "output_type": "stream",
     "text": [
      "INFO:tensorflow:Assets written to: C:\\Users\\User\\AppData\\Local\\Temp\\tmpf6wgkn0l\\assets\n"
     ]
    }
   ],
   "source": [
    "# convert keras model to tflite model\n",
    "\n",
    "model = tf.keras.models.load_model('models/model1_cos.h5')\n",
    "\n",
    "converter = tf.lite.TFLiteConverter.from_keras_model(model) # path to the SavedModel directory\n",
    "tflite_model = converter.convert()\n",
    "\n",
    "# Save the model.\n",
    "with open(\"models/model1_cos_tflite.tflite\", \"wb\") as f:\n",
    "  f.write(tflite_model)"
   ]
  },
  {
   "cell_type": "code",
   "execution_count": 142,
   "id": "65020a17",
   "metadata": {},
   "outputs": [],
   "source": [
    "# przygotowanie zbioru testowego do tensorflowlite\n",
    "\n",
    "data[0] = data[0].astype(np.float32)\n",
    "data[1] = data[1].astype(np.float32)\n",
    "data[2] = data[2].astype(np.float32)"
   ]
  },
  {
   "cell_type": "code",
   "execution_count": 143,
   "id": "d40eb1e7",
   "metadata": {},
   "outputs": [],
   "source": [
    "# Test tflite model\n",
    "\n",
    "import numpy as np\n",
    "import tensorflow as tf\n",
    "\n",
    "# Load TFLite model and allocate tensors.\n",
    "interpreter = tf.lite.Interpreter(model_path=\"models/model1_cos_tflite.tflite\")\n",
    "\n",
    "# Get input and output tensors.\n",
    "input_details = interpreter.get_input_details()\n",
    "output_details = interpreter.get_output_details()\n",
    "\n",
    "interpreter.allocate_tensors()\n",
    "\n",
    "input_data = data\n",
    "\n",
    "preds = []\n",
    "for i in range(data[0].shape[0]):\n",
    "# for i in range(1):\n",
    "    input_data_0 = input_data[0][i].reshape((1,\n",
    "                                           input_data[0].shape[1], \n",
    "                                           input_data[0].shape[2],\n",
    "                                          1))\n",
    "\n",
    "    input_data_1 = input_data[1][i].reshape((1,\n",
    "                                           input_data[1].shape[1], \n",
    "                                           input_data[1].shape[2],\n",
    "                                          1))\n",
    "\n",
    "    input_data_2 = input_data[2][i].reshape((1,\n",
    "                                           input_data[2].shape[1], \n",
    "                                           input_data[2].shape[2],\n",
    "                                          1))\n",
    "    \n",
    "    interpreter.set_tensor(input_details[0]['index'], input_data_0)\n",
    "    interpreter.set_tensor(input_details[1]['index'], input_data_1)\n",
    "    interpreter.set_tensor(input_details[2]['index'], input_data_2)\n",
    "    \n",
    "    interpreter.invoke()\n",
    "    \n",
    "    preds.append(interpreter.get_tensor(output_details[0]['index']))"
   ]
  },
  {
   "cell_type": "code",
   "execution_count": 144,
   "id": "e39136e7",
   "metadata": {},
   "outputs": [
    {
     "name": "stdout",
     "output_type": "stream",
     "text": [
      "0.0\n",
      "0.1\n",
      "0.2\n",
      "0.3\n",
      "0.4\n",
      "0.5\n",
      "0.6\n",
      "0.7000000000000001\n",
      "0.8\n",
      "0.9000000000000001\n"
     ]
    },
    {
     "data": {
      "image/png": "[encoded data removed]",
      "text/plain": [
       "<Figure size 432x288 with 1 Axes>"
      ]
     },
     "metadata": {
      "needs_background": "light"
     },
     "output_type": "display_data"
    },
    {
     "name": "stdout",
     "output_type": "stream",
     "text": [
      "0.853\n"
     ]
    }
   ],
   "source": [
    "cos_sim = []\n",
    "\n",
    "for pred in preds:\n",
    "    anch = pred[0,:100]\n",
    "    pos = pred[0,100:200]\n",
    "    neg = pred[0,200:300]\n",
    "    \n",
    "    cos_sim.append(calc_cos_tensor(anch, pos).numpy())\n",
    "\n",
    "false_negative = []\n",
    "false_positive = []\n",
    "\n",
    "for threshold in np.arange(0, 0.99, 0.001):\n",
    "    y_pred = []\n",
    "    for i in cos_sim:\n",
    "        if i > threshold:\n",
    "            y_pred.append(1)\n",
    "        else:\n",
    "            y_pred.append(0)\n",
    "\n",
    "    y_true = np.array(y_true)\n",
    "    y_pred = np.array(y_pred)\n",
    "    \n",
    "    confusion_matrix = metrics.confusion_matrix(y_true, y_pred)\n",
    "    \n",
    "    false_negative.append(confusion_matrix[1][0])\n",
    "    false_positive.append(confusion_matrix[0][1])\n",
    "    \n",
    "    if int(threshold * 100) % 100 == 0:\n",
    "        print(threshold * 100)\n",
    "        \n",
    "threshold = np.arange(0, 0.99, 0.001)\n",
    "plt.plot(threshold, false_negative)\n",
    "plt.plot(threshold, false_positive)\n",
    "plt.show()\n",
    "\n",
    "idx = (np.abs(np.array(false_negative) - np.array(false_positive))).argmin()\n",
    "print(threshold[idx])"
   ]
  },
  {
   "cell_type": "code",
   "execution_count": 157,
   "id": "0ced66d7",
   "metadata": {},
   "outputs": [],
   "source": [
    "cos_sim = []\n",
    "\n",
    "for pred in preds:\n",
    "    anch = pred[0,:100]\n",
    "    pos = pred[0,100:200]\n",
    "    neg = pred[0,200:300]\n",
    "    \n",
    "    cos_sim.append(calc_cos_tensor(anch, pos).numpy())\n",
    "\n",
    "y_pred = []\n",
    "for i in cos_sim:\n",
    "    if i > 0.853:\n",
    "        y_pred.append(1)\n",
    "    else:\n",
    "        y_pred.append(0)\n",
    "        \n",
    "y_true = np.array(y_true)\n",
    "y_pred = np.array(y_pred)"
   ]
  },
  {
   "cell_type": "code",
   "execution_count": 158,
   "id": "36b21911",
   "metadata": {},
   "outputs": [
    {
     "data": {
      "image/png": "[encoded data removed]",
      "text/plain": [
       "<Figure size 432x288 with 2 Axes>"
      ]
     },
     "metadata": {
      "needs_background": "light"
     },
     "output_type": "display_data"
    }
   ],
   "source": [
    "confusion_matrix = metrics.confusion_matrix(y_true, y_pred)\n",
    "cm_display = metrics.ConfusionMatrixDisplay(confusion_matrix = confusion_matrix, display_labels = [False, True])\n",
    "\n",
    "cm_display.plot()\n",
    "plt.show()"
   ]
  },
  {
   "cell_type": "code",
   "execution_count": null,
   "id": "0cae3585",
   "metadata": {},
   "outputs": [],
   "source": []
  }
 ],
 "metadata": {
  "kernelspec": {
   "display_name": "Python 3 (ipykernel)",
   "language": "python",
   "name": "python3"
  },
  "language_info": {
   "codemirror_mode": {
    "name": "ipython",
    "version": 3
   },
   "file_extension": ".py",
   "mimetype": "text/x-python",
   "name": "python",
   "nbconvert_exporter": "python",
   "pygments_lexer": "ipython3",
   "version": "3.10.5"
  }
 },
 "nbformat": 4,
 "nbformat_minor": 5
}
