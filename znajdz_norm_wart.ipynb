{
 "cells": [
  {
   "cell_type": "code",
   "execution_count": 1,
   "id": "58f49824",
   "metadata": {},
   "outputs": [],
   "source": [
    "import random\n",
    "import matplotlib.pyplot as plt\n",
    "import numpy as np\n",
    "import umap.umap_ as umap\n",
    "from tensorflow.keras import backend as K\n",
    "from tensorflow.keras.datasets import mnist\n",
    "from tensorflow.keras.models import Model\n",
    "import tensorflow.keras.layers as K_layers\n",
    "import tensorflow.keras.models as K_models\n",
    "import tensorflow as tf\n",
    "from PIL import Image\n",
    "from skimage import io\n",
    "import os\n",
    "from IPython.display import clear_output\n",
    "\n",
    "data_path = \"data_numpy_trim_4_sil_01_1percent_v1.2\"\n",
    "# data_path = \"normalized_data\""
   ]
  },
  {
   "cell_type": "code",
   "execution_count": 2,
   "id": "e2d262a2",
   "metadata": {},
   "outputs": [
    {
     "name": "stdout",
     "output_type": "stream",
     "text": [
      "Person: 251/251, file: 228/228\n"
     ]
    }
   ],
   "source": [
    "maks_wart = 0\n",
    "min_wart = 0\n",
    "\n",
    "person_count = 0\n",
    "\n",
    "for person in os.listdir(data_path):\n",
    "    person_count += 1\n",
    "    file_count = 0\n",
    "    file_limit = len(os.listdir(f'{data_path}/{person}'))\n",
    "    for file in os.listdir(f'{data_path}/{person}'):\n",
    "        file_count += 1\n",
    "        data = np.load(f'{data_path}/{person}/{file}')\n",
    "        if np.max(data) > maks_wart:\n",
    "            maks_wart = np.max(data)\n",
    "        \n",
    "        if np.min(data) < min_wart:\n",
    "            min_wart = np.min(data)\n",
    "        \n",
    "        clear_output(wait=True)\n",
    "        print(f'Person: {person_count}/251, file: {file_count}/{file_limit}')"
   ]
  },
  {
   "cell_type": "code",
   "execution_count": 3,
   "id": "252f29f7",
   "metadata": {},
   "outputs": [
    {
     "data": {
      "text/plain": [
       "39.012882232666016"
      ]
     },
     "execution_count": 3,
     "metadata": {},
     "output_type": "execute_result"
    }
   ],
   "source": [
    "maks_wart"
   ]
  },
  {
   "cell_type": "code",
   "execution_count": 4,
   "id": "e459de61",
   "metadata": {},
   "outputs": [
    {
     "data": {
      "text/plain": [
       "-72.86720275878906"
      ]
     },
     "execution_count": 4,
     "metadata": {},
     "output_type": "execute_result"
    }
   ],
   "source": [
    "min_wart"
   ]
  },
  {
   "cell_type": "code",
   "execution_count": 9,
   "id": "fa39b749",
   "metadata": {},
   "outputs": [
    {
     "name": "stdout",
     "output_type": "stream",
     "text": [
      "Person: 251/251, file: 228/228\n"
     ]
    }
   ],
   "source": [
    "person_count = 0\n",
    "max_w = 1\n",
    "min_w = 0\n",
    "\n",
    "for person in os.listdir(data_path):\n",
    "    person_count += 1\n",
    "    file_count = 0\n",
    "    file_limit = len(os.listdir(f'{data_path}/{person}'))\n",
    "    for file in os.listdir(f'{data_path}/{person}'):\n",
    "        file_count += 1\n",
    "        data = np.load(f'{data_path}/{person}/{file}')\n",
    "        data = data + np.abs(min_wart)\n",
    "        data = data / (maks_wart + np.abs(min_wart))\n",
    "        if np.max(data) > max_w:\n",
    "            max_w = np.max(data)\n",
    "        if np.min(data) < min_w:\n",
    "            min_w = np.min(data)\n",
    "        if not os.path.exists(f'normalized_data_new/{person}'):\n",
    "            os.mkdir(f'normalized_data_new/{person}')\n",
    "        np.save(f'normalized_data_new/{person}/{file}', data)\n",
    "        \n",
    "        clear_output(wait=True)\n",
    "        print(f'Person: {person_count}/251, file: {file_count}/{file_limit}')"
   ]
  },
  {
   "cell_type": "code",
   "execution_count": 10,
   "id": "2349343d",
   "metadata": {},
   "outputs": [
    {
     "data": {
      "text/plain": [
       "1"
      ]
     },
     "execution_count": 10,
     "metadata": {},
     "output_type": "execute_result"
    }
   ],
   "source": [
    "max_w"
   ]
  },
  {
   "cell_type": "code",
   "execution_count": 11,
   "id": "c7b2fb23",
   "metadata": {},
   "outputs": [
    {
     "data": {
      "text/plain": [
       "0"
      ]
     },
     "execution_count": 11,
     "metadata": {},
     "output_type": "execute_result"
    }
   ],
   "source": [
    "min_w"
   ]
  },
  {
   "cell_type": "code",
   "execution_count": null,
   "id": "4ef287ee",
   "metadata": {},
   "outputs": [],
   "source": []
  }
 ],
 "metadata": {
  "kernelspec": {
   "display_name": "Python 3 (ipykernel)",
   "language": "python",
   "name": "python3"
  },
  "language_info": {
   "codemirror_mode": {
    "name": "ipython",
    "version": 3
   },
   "file_extension": ".py",
   "mimetype": "text/x-python",
   "name": "python",
   "nbconvert_exporter": "python",
   "pygments_lexer": "ipython3",
   "version": "3.10.5"
  }
 },
 "nbformat": 4,
 "nbformat_minor": 5
}
